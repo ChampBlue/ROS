{
 "cells": [
  {
   "cell_type": "code",
   "execution_count": null,
   "metadata": {},
   "outputs": [
    {
     "ename": "",
     "evalue": "",
     "output_type": "error",
     "traceback": [
      "\u001b[1;31m'Python 3.8.10'(으)로 셀을 실행하려면 ipykernel 패키지가 필요합니다.\n",
      "\u001b[1;31m다음 명령어를 실행하여 Python 환경에 'ipykernel'을(를) 설치합니다. \n",
      "\u001b[1;31m 명령: '/bin/python3 -m pip install ipykernel -U --user --force-reinstall'"
     ]
    }
   ],
   "source": [
    "import rospy"
   ]
  },
  {
   "cell_type": "markdown",
   "metadata": {},
   "source": [
    "파이썬 언어로 작성된 ros 클라이언트 라이브러리\n",
    "\n",
    "주요 기능\n",
    "1. 노드 초기화\n",
    "\n",
    "2. 퍼블리셔\n",
    "\n",
    "3. 서브스크라이버\n",
    "\n",
    "4. 서비스\n",
    "\n",
    "5. 서비스 클라이언트\n",
    "\n",
    "6. 로깅\n",
    "\n",
    "7. 시간 및 주기 관리\n",
    "\n",
    "8. 노드 종료 확인"
   ]
  },
  {
   "cell_type": "code",
   "execution_count": null,
   "metadata": {},
   "outputs": [],
   "source": [
    "from std_msgs import String"
   ]
  },
  {
   "cell_type": "markdown",
   "metadata": {},
   "source": [
    "std_msg 패키지에서 String 메시지 타입을 import\n",
    "이를 통해 ros 노드에서 String 메시지를 사용할 수 있게 됨.\n",
    "\n",
    "# std_msgs 패키지\n",
    "- ros 표준 메시지 패키지\n",
    "- ros에서 자주 사용되는 기본 메시지 타입을 정의함\n",
    "- 예) String, Int32, Float64, Bool 등\n",
    "- 목적 : 표준화된 메시지 타입을 제공하여 다양한 ros 노드 간의 데이터교환을 용이하게 함\n",
    "\n",
    "# String 메시지 타입\n",
    "- 문자열 데이터를 포함하는 메시지 타입\n",
    "- ros 노드 간에 텍스트 데이터를 주고 받을 때 사용됨"
   ]
  },
  {
   "cell_type": "code",
   "execution_count": null,
   "metadata": {},
   "outputs": [],
   "source": [
    "pub = rospy.Publisher('chatter', String, queue_size=10)"
   ]
  },
  {
   "cell_type": "markdown",
   "metadata": {},
   "source": [
    "# rospy.Publisher(name, data_class, queue_size, latch, tcp_nodelay)\n",
    "\n",
    "- 설명\n",
    "    1. 위 함수는 ros에서 퍼블리셔 노드를 생성하는데 사용됨\n",
    "    2. 퍼블리셔는 특정 토픽에 메시지를 발행하는 역할\n",
    "\n",
    "- 매개변수\n",
    "    1. name(string, 필수)\n",
    "        - 퍼블리셔가 메시지를 발행할 토픽의 이름\n",
    "        - 이 토픽 이름을 통해 다른 노드들이 해당 토픽을 구독하여 메시지를 받을 수 있음.\n",
    "\n",
    "    2. data_class(message type, 필수)\n",
    "        - 퍼블리셔가 발행할 메시지의 데이터 타입\n",
    "        - 예)std_msgs.msg.String\n",
    "\n",
    "    3. queue_size(int, 옵션)\n",
    "        - 디폴트 값 = 10\n",
    "        - 퍼블리셔나 서브스크라이버가 한 번에 처리할 수 있는 최대 메시지 수를 의미함\n",
    "        - 큐는 발행된 메시지를 잠시 저장하는 버퍼 역할을 함\n",
    "        - 중요성\n",
    "            1. 메시지 손실 방지\n",
    "                - 퍼블리셔가 메시지를 발행하는 속도가 서브스크라이버가 메시지를 처리하는 속도보다 빠르면, 큐가 꽉 차게됨.\n",
    "                - 큐가 꽉 찼을 때 새로운 메시지가 발행되면, 가장 오래된 메시지가 삭제되어 메시지 손실이 발생할 수 있음\n",
    "                - 적절한 큐 크기를 설정하면 이러한 메시지 손실을 방지할 수 있음\n",
    "\n",
    "            2. 메모리 관리\n",
    "                - 너무 큰 큐 크기는 많은 메시지를 버퍼렁하여 메모리 사용량이 증가할 수 있음\n",
    "                - 너무 작은 큐 크기는 메시지 손실이 발생\n",
    "                - 적절한 큐 크기를 설정하여 시스템의 메모리 사용량과 메시지 손실을 균형있게 관리할 수 있음.\n",
    "\n",
    "            3. 예시상황\n",
    "                - 서브스크라이버가 메시지를 처리하는 속도가 느린 경우, 큐 크기를 크게 설정하여 메시지 손실을 방지할 수 있음.\n",
    "                - 실시가 처리가 필요한 경우, 큐 크기를 작게 설정하여 오래된 메시지를 빠르게 삭제하고 최신 메시지를 유지할 수 있음.\n",
    "        \n",
    "    4. lanch(bool, option)\n",
    "        - 디폴트 값 = false\n",
    "        - True로 설정하면 가장 최근에 발행된 메시지가 새로운 구독자에게 자동으로 전송됨. 이는 latch된 퍼블리셔라고 함.\n",
    "        - latch=True로 설정된 퍼블리셔는 가장 최근에 발행된 메시지를 저장함\n",
    "\n",
    "    5. tcp_nodelay(bool, option)\n",
    "        - 디폴트 값 = false\n",
    "        - true로 설정하면 tcp_nodelay 옵션을 사용하여 메시지 전송의 지연을 최소화함\n",
    "        - 이는 작은 메시지를 더 빠르게 전송할 때 유용함\n",
    "        - 예) true로 설정하면, 네트워크 지연을 줄여 메시지를 빠르게 전송할 수 있음\n",
    "        \n",
    "        - 사용 방향(true)\n",
    "            1. 실시간 성능이 중요한 경우\n",
    "                - 작은 메시지를 지연 없이 빠르게 전송해야하는 경우에 유용함.\n",
    "                - 예 : 로봇의 제어 명령이나 실시간 센서 데이터 전송\n",
    "\n",
    "            2. 네트워크 지연 최소화\n",
    "                - 메시지 전송 지연을 줄이고 싶을 때 사용함\n",
    "        \n",
    "        - 사용 방향(false)\n",
    "            1. 네트워크 효율성\n",
    "                - true일 때는 작은 패킷들이 자주 전송되어 네트워크 트래픽이 증가할 수 있음\n",
    "                - 이는 네트워크 효율성을 떨어트리고 대역폭을 많이 차지하게됨\n",
    "\n",
    "            2. 큰 데이터 전송할 때\n",
    "\n"
   ]
  },
  {
   "cell_type": "code",
   "execution_count": null,
   "metadata": {},
   "outputs": [],
   "source": [
    "rospy.init_node('talker', anonymous=True)"
   ]
  },
  {
   "cell_type": "markdown",
   "metadata": {},
   "source": [
    "# rospy.init_node()\n",
    "    - ros 노드를 초기화하는 함수\n",
    "    - 모든 ros 노드는 이 함수를 호출하여 노드의 이름을 설정하고, ros 마스터와 통신을 시작해야함.\n",
    "    - 이 함수는 ros 노드가 실행되기 전에 한 번 호출되어야 하며, 이는 노드가 ros 네트워크에 참여할 수 있도록 준비함\n",
    "\n",
    "\n",
    "# rospy.init_node(name, anonymous=False, log_level=rospy.INFO, disable_signals=False, argv=None)\n",
    "\n",
    "1. name(string, 필수)\n",
    "    - 노드의 이름을 설정\n",
    "    - 이 이름은 ros 마스터에 등록되며, 다른 노드와 구별되는 식별자로 사용됨\n",
    "\n",
    "2. anonymous(bool, 옵션)\n",
    "    - 기본값 : false\n",
    "    - true로 설정하면, 노드 이름에 고유한 식별자를 추가하여 동일한 이름의 여러 노두가 실행될 수 있도록 함.\n",
    "\n",
    "3. log_level(int, 옵션)\n",
    "    - 기본값 : rospy.INFO\n",
    "    - 노드의 로그 레벨을 설정\n",
    "        1) rospy.INFO\n",
    "            - 일반적인 정보\n",
    "            - 정상적인 동작 상태와 관련된 유용한 정보를 제공하며, 시스템의 정상 작동을 확인하는 데 사용\n",
    "            - 예: 주요 이벤트, 상태 업데이트, 성공적인 작업 완료 등의 정보를 출력할 때 사용\n",
    "\n",
    "        2) rospy.DEBUG\n",
    "            - 디버그 정보를 나타냄\n",
    "            - 주로 개발 중에 사용되며, 코드의 실행 흐름과 내부 상태를 자세히 파악하는 데 유용\n",
    "            - 예: 변수 값, 함수 호출, 루프 반복 등의 상세한 실행 정보를 출력할 때 사용\n",
    "\n",
    "        3) rospy.WARN\n",
    "            - 경고 메시지를 나타냄\n",
    "            - 문제를 일으킬 수 있는 잠재적인 상황이나 비정상적인 동작을 경고하며, 그러나 시스템이 계속 작동할 수 있는 경우에 사용\n",
    "            - 예: 예상치 못한 입력, 경미한 오류, 비정상적인 상태 등을 출력할 때 사용\n",
    "        \n",
    "        4) rospy.ERROR\n",
    "            - 오류 메시지를 나타냄\n",
    "            - 작업을 수행할 수 없는 심각한 문제가 발생했음을 나타내며, 일반적으로 사용자 개입이 필요함\n",
    "            - 예: 예외 처리, 실패한 작업, 복구 불가능한 상태 등을 출력할 때 사용\n",
    "\n",
    "        5) rospy.FATAL\n",
    "            - 치명적 오류 메시지를 나타냄\n",
    "            - 시스템이나 노드의 작동을 중단시킬 수 있는 심각한 문제를 나타내며, 즉각적인 조치가 필요\n",
    "            - 예: 노드가 계속 실행될 수 없는 치명적인 오류가 발생했을 때 사용\n",
    "    \n",
    "4. disbale_signals(bool, 옵션)\n",
    "    - 기본값 : false\n",
    "    - true로 설정ㄷ하면 rospy가 python의 신호 핸들러(siganl handlers)를 재설정하지 않음\n",
    "\n",
    "5. argc(list, 옵션)\n",
    "    - 기본값 : None\n",
    "    - 명령줄 인수를 처리하는 데 사용됨\n",
    "    - 특정 명령줄 인수를 ros 노드에 전달할 수 있음."
   ]
  },
  {
   "cell_type": "code",
   "execution_count": null,
   "metadata": {},
   "outputs": [],
   "source": [
    "rospy.Rate()"
   ]
  },
  {
   "cell_type": "markdown",
   "metadata": {},
   "source": [
    "# rospy.Rate()\n",
    "- ros에서 주기를 설정하고, 지정된 주기대로 작업을 반복 수행할 수 있게 도와주는 유틸리티.\n",
    "- 이 함수를 사용하여 특정 주기(초당 반복 횟수)로 루프를 실행할 수 있음.\n",
    "\n",
    "- 사용 목적\n",
    "    - rospy.Rate(hz)는 주기를 설정하여 루프가 특정한 속도로 실행되도록 함. \n",
    "    - 여기서 hz는 루프가 초당 몇 번 실행될지를 지정하는 매개변수\n",
    "\n",
    "- 기능\n",
    "    1. 주기설정:\n",
    "        rospy.Rate(hz)는 초당 hz번 루프를 실행하도록 설정함\n",
    "    2. 루프대기:\n",
    "        rate.sleep()을 호출하면 남은 주기시간 동안 대기함\n",
    "\n",
    "- 예 \n",
    "    - 10초에 한번 : rospy.Rate(0.1)\n",
    "    - 1초에 한번 : rospy.Rate(1)\n",
    "    - 100미리초에 한번 : rospy.Rate(10)"
   ]
  },
  {
   "cell_type": "code",
   "execution_count": null,
   "metadata": {},
   "outputs": [],
   "source": [
    "for i in range(5):\n",
    "        hello_str = f\"hello world{rospy.get_time()}\"\n",
    "        rospy.loginfo(hello_str)"
   ]
  },
  {
   "cell_type": "markdown",
   "metadata": {},
   "source": [
    "# rospy.loginfo()\n",
    "- ros 노드에서 로그 메시지를 출력하는데 사용됨.\n",
    "\n",
    "- rospy.DEBUG: 디버그 메시지\n",
    "- rospy.INFO: 정보 메시지\n",
    "- rospy.WARN: 경고 메시지\n",
    "- rospy.ERROR: 오류 메시지\n",
    "- rospy.FATAL: 치명적 오류 메시지"
   ]
  }
 ],
 "metadata": {
  "kernelspec": {
   "display_name": "Python 3",
   "language": "python",
   "name": "python3"
  },
  "language_info": {
   "name": "python",
   "version": "3.8.10"
  }
 },
 "nbformat": 4,
 "nbformat_minor": 2
}
